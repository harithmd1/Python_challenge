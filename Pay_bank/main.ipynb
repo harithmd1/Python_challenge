{
 "cells": [
  {
   "cell_type": "code",
   "execution_count": 53,
   "metadata": {},
   "outputs": [
    {
     "name": "stdout",
     "output_type": "stream",
     "text": [
      "net Profit 38382578\n",
      "Average Profit 446309.0465116279\n",
      "Maximum Profit 999942\n",
      "Minimum Profit -1022534\n"
     ]
    }
   ],
   "source": [
    "import csv\n",
    "def import_data():\n",
    "                data={}\n",
    "                with open(\"/Users/pigeoneyevideography/Desktop/module2/Starter_Code_2/PyBank/Resources/budget_data.csv\", 'r') as file:\n",
    "                    reader=csv.DictReader(file)\n",
    "                    for row in reader:\n",
    "                        date=row['Date']\n",
    "                        profit=row['Profit/Losses']\n",
    "                        data[date]=profit\n",
    "                return data\n",
    "\n",
    "def calculations(data):\n",
    "        net_profit=sum([int(i) for i in data.values()])\n",
    "        average_profit=net_profit/len(data)\n",
    "        max_profit=max(data.values())\n",
    "        min_profit=min(data.values())\n",
    "        return net_profit, average_profit, max_profit, min_profit\n",
    "\n",
    "#data=import_data()\n",
    "net_profit, average_profit, max_profit, min_profit=calculations(import_data())\n",
    "\n",
    "print(\"net Profit\", net_profit)\n",
    "print(\"Average Profit\", average_profit)\n",
    "print(\"Maximum Profit\", max_profit)\n",
    "print(\"Minimum Profit\", min_profit)\n",
    "  \n"
   ]
  }
 ],
 "metadata": {
  "kernelspec": {
   "display_name": "dev",
   "language": "python",
   "name": "python3"
  },
  "language_info": {
   "codemirror_mode": {
    "name": "ipython",
    "version": 3
   },
   "file_extension": ".py",
   "mimetype": "text/x-python",
   "name": "python",
   "nbconvert_exporter": "python",
   "pygments_lexer": "ipython3",
   "version": "3.10.13"
  },
  "orig_nbformat": 4
 },
 "nbformat": 4,
 "nbformat_minor": 2
}
